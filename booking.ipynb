{
 "cells": [
  {
   "cell_type": "markdown",
   "metadata": {},
   "source": [
    "# **Problem**"
   ]
  },
  {
   "cell_type": "markdown",
   "metadata": {},
   "source": [
    "## Find out the pontential customer who may book the hotel through by statistical data of hotel website from Google Analytics"
   ]
  },
  {
   "cell_type": "markdown",
   "metadata": {},
   "source": [
    "# **Data Discription**"
   ]
  },
  {
   "cell_type": "markdown",
   "metadata": {},
   "source": [
    "## As Known :\n",
    "### 1. 10 numerical data and 8 categorical data\n",
    "### 2. target : Revenue (1=Booked, 0=Not Booked)\n",
    "\n",
    "## Attribution :\n",
    "### Administrative：管理頁面瀏覽數量                            \n",
    "### Administrative_Duration：管理頁面瀏覽時間                  \n",
    "### Informational：資訊頁面瀏覽數量                             \n",
    "### Informational_Duration：資訊頁面瀏覽時間                    \n",
    "### ProductRelated：產品頁面瀏覽數量                            \n",
    "### ProductRelated_Duration：產品頁面瀏覽時間                  \n",
    "### BounceRates：跳出率                                       \n",
    "### ExitRates：退出率                                         \n",
    "### PageValues：頁面價值                                      \n",
    "### SpecialDay：特殊日期（例如聖誕節，情人節）接近程度              \n",
    "### Month：訪問月份                                           \n",
    "### OperatingSystems：作業系統                                \n",
    "### Browser：瀏覽器                                           \n",
    "### Region：地區\n",
    "### TrafficType：流量來源\n",
    "### VisitorType：訪客類型\n",
    "### Weekend：訪問時間是否為週末\n",
    "### Revenue：是否訂房"
   ]
  },
  {
   "cell_type": "markdown",
   "metadata": {},
   "source": [
    "# **Import Library**"
   ]
  },
  {
   "cell_type": "code",
   "execution_count": 31,
   "metadata": {},
   "outputs": [],
   "source": [
    "import warnings\n",
    "from sklearn.model_selection import train_test_split, KFold, cross_val_score,GridSearchCV\n",
    "from sklearn.tree import DecisionTreeClassifier\n",
    "from sklearn.linear_model import LogisticRegression\n",
    "from sklearn.ensemble import RandomForestClassifier\n",
    "from sklearn.metrics import accuracy_score\n",
    "from sklearn.neighbors import KNeighborsClassifier\n",
    "from sklearn.svm import SVC\n",
    "from sklearn.naive_bayes import GaussianNB\n",
    "import pandas as pd\n",
    "import numpy as np\n",
    "import matplotlib.pyplot as plt\n",
    "import seaborn as sns\n",
    "%matplotlib inline\n",
    "warnings.filterwarnings(\"ignore\")"
   ]
  },
  {
   "cell_type": "markdown",
   "metadata": {},
   "source": [
    "# **Load Data**"
   ]
  },
  {
   "cell_type": "code",
   "execution_count": 2,
   "metadata": {},
   "outputs": [],
   "source": [
    "# load data\n",
    "train_data=pd.read_csv('C:/Users/User/Desktop/data-question 2/train.csv')\n",
    "test_data = pd.read_csv('C:/Users/User/Desktop/data-question 2/test.csv')\n",
    "submission = pd.read_csv('C:/Users/User/Desktop/data-question 2/sample_submission.csv')"
   ]
  },
  {
   "cell_type": "code",
   "execution_count": 3,
   "metadata": {},
   "outputs": [
    {
     "data": {
      "text/html": [
       "<div>\n",
       "<style scoped>\n",
       "    .dataframe tbody tr th:only-of-type {\n",
       "        vertical-align: middle;\n",
       "    }\n",
       "\n",
       "    .dataframe tbody tr th {\n",
       "        vertical-align: top;\n",
       "    }\n",
       "\n",
       "    .dataframe thead th {\n",
       "        text-align: right;\n",
       "    }\n",
       "</style>\n",
       "<table border=\"1\" class=\"dataframe\">\n",
       "  <thead>\n",
       "    <tr style=\"text-align: right;\">\n",
       "      <th></th>\n",
       "      <th>ID</th>\n",
       "      <th>Administrative</th>\n",
       "      <th>Administrative_Duration</th>\n",
       "      <th>Informational</th>\n",
       "      <th>Informational_Duration</th>\n",
       "      <th>ProductRelated</th>\n",
       "      <th>ProductRelated_Duration</th>\n",
       "      <th>BounceRates</th>\n",
       "      <th>ExitRates</th>\n",
       "      <th>PageValues</th>\n",
       "      <th>SpecialDay</th>\n",
       "      <th>Month</th>\n",
       "      <th>OperatingSystems</th>\n",
       "      <th>Browser</th>\n",
       "      <th>Region</th>\n",
       "      <th>TrafficType</th>\n",
       "      <th>VisitorType</th>\n",
       "      <th>Weekend</th>\n",
       "      <th>Revenue</th>\n",
       "    </tr>\n",
       "  </thead>\n",
       "  <tbody>\n",
       "    <tr>\n",
       "      <th>0</th>\n",
       "      <td>8773</td>\n",
       "      <td>0</td>\n",
       "      <td>0.000000</td>\n",
       "      <td>0</td>\n",
       "      <td>0.0</td>\n",
       "      <td>1</td>\n",
       "      <td>0.000000</td>\n",
       "      <td>0.200000</td>\n",
       "      <td>0.200000</td>\n",
       "      <td>0.000000</td>\n",
       "      <td>0.4</td>\n",
       "      <td>2</td>\n",
       "      <td>3.0</td>\n",
       "      <td>11.0</td>\n",
       "      <td>3.0</td>\n",
       "      <td>7.0</td>\n",
       "      <td>2.0</td>\n",
       "      <td>0</td>\n",
       "      <td>0</td>\n",
       "    </tr>\n",
       "    <tr>\n",
       "      <th>1</th>\n",
       "      <td>6709</td>\n",
       "      <td>0</td>\n",
       "      <td>0.000000</td>\n",
       "      <td>0</td>\n",
       "      <td>0.0</td>\n",
       "      <td>1</td>\n",
       "      <td>0.000000</td>\n",
       "      <td>0.200000</td>\n",
       "      <td>0.200000</td>\n",
       "      <td>0.000000</td>\n",
       "      <td>0.0</td>\n",
       "      <td>9</td>\n",
       "      <td>1.0</td>\n",
       "      <td>10.0</td>\n",
       "      <td>0.0</td>\n",
       "      <td>8.0</td>\n",
       "      <td>2.0</td>\n",
       "      <td>0</td>\n",
       "      <td>0</td>\n",
       "    </tr>\n",
       "    <tr>\n",
       "      <th>2</th>\n",
       "      <td>1463</td>\n",
       "      <td>9</td>\n",
       "      <td>301.000000</td>\n",
       "      <td>0</td>\n",
       "      <td>0.0</td>\n",
       "      <td>38</td>\n",
       "      <td>2621.621429</td>\n",
       "      <td>0.021212</td>\n",
       "      <td>0.044508</td>\n",
       "      <td>10.721172</td>\n",
       "      <td>0.0</td>\n",
       "      <td>8</td>\n",
       "      <td>1.0</td>\n",
       "      <td>10.0</td>\n",
       "      <td>0.0</td>\n",
       "      <td>14.0</td>\n",
       "      <td>2.0</td>\n",
       "      <td>0</td>\n",
       "      <td>0</td>\n",
       "    </tr>\n",
       "    <tr>\n",
       "      <th>3</th>\n",
       "      <td>4095</td>\n",
       "      <td>2</td>\n",
       "      <td>13.333333</td>\n",
       "      <td>0</td>\n",
       "      <td>0.0</td>\n",
       "      <td>105</td>\n",
       "      <td>2062.443592</td>\n",
       "      <td>0.012205</td>\n",
       "      <td>0.020276</td>\n",
       "      <td>0.000000</td>\n",
       "      <td>0.6</td>\n",
       "      <td>2</td>\n",
       "      <td>5.0</td>\n",
       "      <td>10.0</td>\n",
       "      <td>0.0</td>\n",
       "      <td>7.0</td>\n",
       "      <td>2.0</td>\n",
       "      <td>0</td>\n",
       "      <td>0</td>\n",
       "    </tr>\n",
       "    <tr>\n",
       "      <th>4</th>\n",
       "      <td>3346</td>\n",
       "      <td>0</td>\n",
       "      <td>0.000000</td>\n",
       "      <td>0</td>\n",
       "      <td>0.0</td>\n",
       "      <td>19</td>\n",
       "      <td>220.384849</td>\n",
       "      <td>0.010526</td>\n",
       "      <td>0.024642</td>\n",
       "      <td>0.000000</td>\n",
       "      <td>0.0</td>\n",
       "      <td>2</td>\n",
       "      <td>1.0</td>\n",
       "      <td>1.0</td>\n",
       "      <td>0.0</td>\n",
       "      <td>7.0</td>\n",
       "      <td>2.0</td>\n",
       "      <td>0</td>\n",
       "      <td>0</td>\n",
       "    </tr>\n",
       "    <tr>\n",
       "      <th>...</th>\n",
       "      <td>...</td>\n",
       "      <td>...</td>\n",
       "      <td>...</td>\n",
       "      <td>...</td>\n",
       "      <td>...</td>\n",
       "      <td>...</td>\n",
       "      <td>...</td>\n",
       "      <td>...</td>\n",
       "      <td>...</td>\n",
       "      <td>...</td>\n",
       "      <td>...</td>\n",
       "      <td>...</td>\n",
       "      <td>...</td>\n",
       "      <td>...</td>\n",
       "      <td>...</td>\n",
       "      <td>...</td>\n",
       "      <td>...</td>\n",
       "      <td>...</td>\n",
       "      <td>...</td>\n",
       "    </tr>\n",
       "    <tr>\n",
       "      <th>8095</th>\n",
       "      <td>3758</td>\n",
       "      <td>0</td>\n",
       "      <td>0.000000</td>\n",
       "      <td>0</td>\n",
       "      <td>0.0</td>\n",
       "      <td>4</td>\n",
       "      <td>81.000000</td>\n",
       "      <td>0.000000</td>\n",
       "      <td>0.050000</td>\n",
       "      <td>0.000000</td>\n",
       "      <td>0.4</td>\n",
       "      <td>2</td>\n",
       "      <td>1.0</td>\n",
       "      <td>1.0</td>\n",
       "      <td>5.0</td>\n",
       "      <td>7.0</td>\n",
       "      <td>2.0</td>\n",
       "      <td>0</td>\n",
       "      <td>0</td>\n",
       "    </tr>\n",
       "    <tr>\n",
       "      <th>8096</th>\n",
       "      <td>4437</td>\n",
       "      <td>1</td>\n",
       "      <td>15.200000</td>\n",
       "      <td>2</td>\n",
       "      <td>62.6</td>\n",
       "      <td>84</td>\n",
       "      <td>4941.698611</td>\n",
       "      <td>0.017647</td>\n",
       "      <td>0.038706</td>\n",
       "      <td>0.000000</td>\n",
       "      <td>0.0</td>\n",
       "      <td>6</td>\n",
       "      <td>3.0</td>\n",
       "      <td>11.0</td>\n",
       "      <td>1.0</td>\n",
       "      <td>8.0</td>\n",
       "      <td>2.0</td>\n",
       "      <td>0</td>\n",
       "      <td>0</td>\n",
       "    </tr>\n",
       "    <tr>\n",
       "      <th>8097</th>\n",
       "      <td>7449</td>\n",
       "      <td>0</td>\n",
       "      <td>0.000000</td>\n",
       "      <td>0</td>\n",
       "      <td>0.0</td>\n",
       "      <td>25</td>\n",
       "      <td>701.883333</td>\n",
       "      <td>0.000000</td>\n",
       "      <td>0.023333</td>\n",
       "      <td>0.000000</td>\n",
       "      <td>0.0</td>\n",
       "      <td>6</td>\n",
       "      <td>1.0</td>\n",
       "      <td>10.0</td>\n",
       "      <td>0.0</td>\n",
       "      <td>4.0</td>\n",
       "      <td>2.0</td>\n",
       "      <td>0</td>\n",
       "      <td>0</td>\n",
       "    </tr>\n",
       "    <tr>\n",
       "      <th>8098</th>\n",
       "      <td>665</td>\n",
       "      <td>9</td>\n",
       "      <td>183.785714</td>\n",
       "      <td>1</td>\n",
       "      <td>90.0</td>\n",
       "      <td>95</td>\n",
       "      <td>3346.501984</td>\n",
       "      <td>0.002118</td>\n",
       "      <td>0.018656</td>\n",
       "      <td>5.932009</td>\n",
       "      <td>0.0</td>\n",
       "      <td>8</td>\n",
       "      <td>5.0</td>\n",
       "      <td>10.0</td>\n",
       "      <td>5.0</td>\n",
       "      <td>4.0</td>\n",
       "      <td>2.0</td>\n",
       "      <td>0</td>\n",
       "      <td>1</td>\n",
       "    </tr>\n",
       "    <tr>\n",
       "      <th>8099</th>\n",
       "      <td>552</td>\n",
       "      <td>3</td>\n",
       "      <td>49.750000</td>\n",
       "      <td>0</td>\n",
       "      <td>0.0</td>\n",
       "      <td>20</td>\n",
       "      <td>547.400794</td>\n",
       "      <td>0.000000</td>\n",
       "      <td>0.011688</td>\n",
       "      <td>15.065863</td>\n",
       "      <td>0.0</td>\n",
       "      <td>8</td>\n",
       "      <td>5.0</td>\n",
       "      <td>10.0</td>\n",
       "      <td>8.0</td>\n",
       "      <td>4.0</td>\n",
       "      <td>2.0</td>\n",
       "      <td>0</td>\n",
       "      <td>1</td>\n",
       "    </tr>\n",
       "  </tbody>\n",
       "</table>\n",
       "<p>8100 rows × 19 columns</p>\n",
       "</div>"
      ],
      "text/plain": [
       "        ID  Administrative  Administrative_Duration  Informational  \\\n",
       "0     8773               0                 0.000000              0   \n",
       "1     6709               0                 0.000000              0   \n",
       "2     1463               9               301.000000              0   \n",
       "3     4095               2                13.333333              0   \n",
       "4     3346               0                 0.000000              0   \n",
       "...    ...             ...                      ...            ...   \n",
       "8095  3758               0                 0.000000              0   \n",
       "8096  4437               1                15.200000              2   \n",
       "8097  7449               0                 0.000000              0   \n",
       "8098   665               9               183.785714              1   \n",
       "8099   552               3                49.750000              0   \n",
       "\n",
       "      Informational_Duration  ProductRelated  ProductRelated_Duration  \\\n",
       "0                        0.0               1                 0.000000   \n",
       "1                        0.0               1                 0.000000   \n",
       "2                        0.0              38              2621.621429   \n",
       "3                        0.0             105              2062.443592   \n",
       "4                        0.0              19               220.384849   \n",
       "...                      ...             ...                      ...   \n",
       "8095                     0.0               4                81.000000   \n",
       "8096                    62.6              84              4941.698611   \n",
       "8097                     0.0              25               701.883333   \n",
       "8098                    90.0              95              3346.501984   \n",
       "8099                     0.0              20               547.400794   \n",
       "\n",
       "      BounceRates  ExitRates  PageValues  SpecialDay  Month  OperatingSystems  \\\n",
       "0        0.200000   0.200000    0.000000         0.4      2               3.0   \n",
       "1        0.200000   0.200000    0.000000         0.0      9               1.0   \n",
       "2        0.021212   0.044508   10.721172         0.0      8               1.0   \n",
       "3        0.012205   0.020276    0.000000         0.6      2               5.0   \n",
       "4        0.010526   0.024642    0.000000         0.0      2               1.0   \n",
       "...           ...        ...         ...         ...    ...               ...   \n",
       "8095     0.000000   0.050000    0.000000         0.4      2               1.0   \n",
       "8096     0.017647   0.038706    0.000000         0.0      6               3.0   \n",
       "8097     0.000000   0.023333    0.000000         0.0      6               1.0   \n",
       "8098     0.002118   0.018656    5.932009         0.0      8               5.0   \n",
       "8099     0.000000   0.011688   15.065863         0.0      8               5.0   \n",
       "\n",
       "      Browser  Region  TrafficType  VisitorType  Weekend  Revenue  \n",
       "0        11.0     3.0          7.0          2.0        0        0  \n",
       "1        10.0     0.0          8.0          2.0        0        0  \n",
       "2        10.0     0.0         14.0          2.0        0        0  \n",
       "3        10.0     0.0          7.0          2.0        0        0  \n",
       "4         1.0     0.0          7.0          2.0        0        0  \n",
       "...       ...     ...          ...          ...      ...      ...  \n",
       "8095      1.0     5.0          7.0          2.0        0        0  \n",
       "8096     11.0     1.0          8.0          2.0        0        0  \n",
       "8097     10.0     0.0          4.0          2.0        0        0  \n",
       "8098     10.0     5.0          4.0          2.0        0        1  \n",
       "8099     10.0     8.0          4.0          2.0        0        1  \n",
       "\n",
       "[8100 rows x 19 columns]"
      ]
     },
     "execution_count": 3,
     "metadata": {},
     "output_type": "execute_result"
    }
   ],
   "source": [
    "train_data"
   ]
  },
  {
   "cell_type": "code",
   "execution_count": 4,
   "metadata": {},
   "outputs": [
    {
     "data": {
      "text/plain": [
       "((8100, 19), (900, 18))"
      ]
     },
     "execution_count": 4,
     "metadata": {},
     "output_type": "execute_result"
    }
   ],
   "source": [
    "train_data.shape,test_data.shape"
   ]
  },
  {
   "cell_type": "code",
   "execution_count": 5,
   "metadata": {},
   "outputs": [
    {
     "name": "stdout",
     "output_type": "stream",
     "text": [
      "<class 'pandas.core.frame.DataFrame'>\n",
      "RangeIndex: 8100 entries, 0 to 8099\n",
      "Data columns (total 19 columns):\n",
      " #   Column                   Non-Null Count  Dtype  \n",
      "---  ------                   --------------  -----  \n",
      " 0   ID                       8100 non-null   int64  \n",
      " 1   Administrative           8100 non-null   int64  \n",
      " 2   Administrative_Duration  8100 non-null   float64\n",
      " 3   Informational            8100 non-null   int64  \n",
      " 4   Informational_Duration   8100 non-null   float64\n",
      " 5   ProductRelated           8100 non-null   int64  \n",
      " 6   ProductRelated_Duration  8099 non-null   float64\n",
      " 7   BounceRates              8100 non-null   float64\n",
      " 8   ExitRates                8100 non-null   float64\n",
      " 9   PageValues               8100 non-null   float64\n",
      " 10  SpecialDay               8100 non-null   float64\n",
      " 11  Month                    8100 non-null   int64  \n",
      " 12  OperatingSystems         8099 non-null   float64\n",
      " 13  Browser                  8099 non-null   float64\n",
      " 14  Region                   8099 non-null   float64\n",
      " 15  TrafficType              8099 non-null   float64\n",
      " 16  VisitorType              8099 non-null   float64\n",
      " 17  Weekend                  8100 non-null   int64  \n",
      " 18  Revenue                  8100 non-null   int64  \n",
      "dtypes: float64(12), int64(7)\n",
      "memory usage: 1.2 MB\n",
      "<class 'pandas.core.frame.DataFrame'>\n",
      "RangeIndex: 900 entries, 0 to 899\n",
      "Data columns (total 18 columns):\n",
      " #   Column                   Non-Null Count  Dtype  \n",
      "---  ------                   --------------  -----  \n",
      " 0   ID                       900 non-null    int64  \n",
      " 1   Administrative           900 non-null    int64  \n",
      " 2   Administrative_Duration  900 non-null    float64\n",
      " 3   Informational            900 non-null    int64  \n",
      " 4   Informational_Duration   900 non-null    float64\n",
      " 5   ProductRelated           900 non-null    int64  \n",
      " 6   ProductRelated_Duration  900 non-null    float64\n",
      " 7   BounceRates              900 non-null    float64\n",
      " 8   ExitRates                900 non-null    float64\n",
      " 9   PageValues               900 non-null    float64\n",
      " 10  SpecialDay               900 non-null    float64\n",
      " 11  Month                    900 non-null    int64  \n",
      " 12  OperatingSystems         900 non-null    int64  \n",
      " 13  Browser                  900 non-null    int64  \n",
      " 14  Region                   900 non-null    int64  \n",
      " 15  TrafficType              900 non-null    int64  \n",
      " 16  VisitorType              900 non-null    int64  \n",
      " 17  Weekend                  900 non-null    int64  \n",
      "dtypes: float64(7), int64(11)\n",
      "memory usage: 126.7 KB\n"
     ]
    },
    {
     "data": {
      "text/plain": [
       "(None, None)"
      ]
     },
     "execution_count": 5,
     "metadata": {},
     "output_type": "execute_result"
    }
   ],
   "source": [
    "# data information\n",
    "train_data.info(),test_data.info()"
   ]
  },
  {
   "cell_type": "code",
   "execution_count": 6,
   "metadata": {},
   "outputs": [
    {
     "data": {
      "text/plain": [
       "ID                         0\n",
       "Administrative             0\n",
       "Administrative_Duration    0\n",
       "Informational              0\n",
       "Informational_Duration     0\n",
       "ProductRelated             0\n",
       "ProductRelated_Duration    1\n",
       "BounceRates                0\n",
       "ExitRates                  0\n",
       "PageValues                 0\n",
       "SpecialDay                 0\n",
       "Month                      0\n",
       "OperatingSystems           1\n",
       "Browser                    1\n",
       "Region                     1\n",
       "TrafficType                1\n",
       "VisitorType                1\n",
       "Weekend                    0\n",
       "Revenue                    0\n",
       "dtype: int64"
      ]
     },
     "execution_count": 6,
     "metadata": {},
     "output_type": "execute_result"
    }
   ],
   "source": [
    "# missing value\n",
    "train_data.isnull().sum()"
   ]
  },
  {
   "cell_type": "code",
   "execution_count": 7,
   "metadata": {},
   "outputs": [
    {
     "data": {
      "text/plain": [
       "ID                         0\n",
       "Administrative             0\n",
       "Administrative_Duration    0\n",
       "Informational              0\n",
       "Informational_Duration     0\n",
       "ProductRelated             0\n",
       "ProductRelated_Duration    0\n",
       "BounceRates                0\n",
       "ExitRates                  0\n",
       "PageValues                 0\n",
       "SpecialDay                 0\n",
       "Month                      0\n",
       "OperatingSystems           0\n",
       "Browser                    0\n",
       "Region                     0\n",
       "TrafficType                0\n",
       "VisitorType                0\n",
       "Weekend                    0\n",
       "dtype: int64"
      ]
     },
     "execution_count": 7,
     "metadata": {},
     "output_type": "execute_result"
    }
   ],
   "source": [
    "test_data.isnull().sum()"
   ]
  },
  {
   "cell_type": "markdown",
   "metadata": {},
   "source": [
    "## **Overview**\n",
    "### * Some variables has wrong datatype\n",
    "### * The variables which has missing value : ProductRelated_Duration, OperatingSystems, Browser, Region, TrafficType, VisitorType\n",
    "### * Train data has abnormal data : Month, Weekend"
   ]
  },
  {
   "cell_type": "markdown",
   "metadata": {},
   "source": [
    "# ****Data Cleaning****"
   ]
  },
  {
   "cell_type": "markdown",
   "metadata": {},
   "source": [
    "## 1. Handling missing value     \n",
    "### Since there are 5 columns which has missing value is categorical data, so I use the mode of that column to replace; and \"ProductRelated_Duration\" is ## continuous data, so use the mean of column to replace.   \n",
    "                    \n",
    "## 2. Handling abnormal value           \n",
    "### When get the data, we need to check whether there are abnormal value in the dataset, so I check the excel file and find out the train dataset has 2 abnormal value, which are Month and Weekend, so use the mode of column to replace                \n",
    "               \n",
    "## 3. Change the datatype           \n",
    "### As metioned above, the dataset has wrong datatype, need to change the datatype originally float to string"
   ]
  },
  {
   "cell_type": "code",
   "execution_count": 8,
   "metadata": {},
   "outputs": [
    {
     "data": {
      "text/plain": [
       "ID                         0\n",
       "Administrative             0\n",
       "Administrative_Duration    0\n",
       "Informational              0\n",
       "Informational_Duration     0\n",
       "ProductRelated             0\n",
       "ProductRelated_Duration    0\n",
       "BounceRates                0\n",
       "ExitRates                  0\n",
       "PageValues                 0\n",
       "SpecialDay                 0\n",
       "Month                      0\n",
       "OperatingSystems           0\n",
       "Browser                    0\n",
       "Region                     0\n",
       "TrafficType                0\n",
       "VisitorType                0\n",
       "Weekend                    0\n",
       "Revenue                    0\n",
       "dtype: int64"
      ]
     },
     "execution_count": 8,
     "metadata": {},
     "output_type": "execute_result"
    }
   ],
   "source": [
    "# null value\n",
    "missing_value = ['OperatingSystems','Browser','Region','TrafficType','VisitorType']\n",
    "train_data[missing_value]=train_data[missing_value].fillna(train_data[missing_value].mode().iloc[0])\n",
    "train_data['ProductRelated_Duration'].fillna(train_data['ProductRelated_Duration'].mean(),inplace=True)\n",
    "train_data.isnull().sum()"
   ]
  },
  {
   "cell_type": "code",
   "execution_count": 9,
   "metadata": {},
   "outputs": [
    {
     "data": {
      "text/plain": [
       "ID                         0\n",
       "Administrative             0\n",
       "Administrative_Duration    0\n",
       "Informational              0\n",
       "Informational_Duration     0\n",
       "ProductRelated             0\n",
       "ProductRelated_Duration    0\n",
       "BounceRates                0\n",
       "ExitRates                  0\n",
       "PageValues                 0\n",
       "SpecialDay                 0\n",
       "Month                      0\n",
       "OperatingSystems           0\n",
       "Browser                    0\n",
       "Region                     0\n",
       "TrafficType                0\n",
       "VisitorType                0\n",
       "Weekend                    0\n",
       "dtype: int64"
      ]
     },
     "execution_count": 9,
     "metadata": {},
     "output_type": "execute_result"
    }
   ],
   "source": [
    "test_data.isnull().sum()"
   ]
  },
  {
   "cell_type": "code",
   "execution_count": 10,
   "metadata": {},
   "outputs": [],
   "source": [
    "# abnormal data change\n",
    "train_data['Month'].replace([0,13],train_data['Month'].mode()[0],inplace=True)\n",
    "train_data['Weekend'].replace(100, train_data['Weekend'].mode()[0],inplace=True)"
   ]
  },
  {
   "cell_type": "code",
   "execution_count": 11,
   "metadata": {},
   "outputs": [
    {
     "name": "stdout",
     "output_type": "stream",
     "text": [
      "<class 'pandas.core.frame.DataFrame'>\n",
      "RangeIndex: 8100 entries, 0 to 8099\n",
      "Data columns (total 19 columns):\n",
      " #   Column                   Non-Null Count  Dtype  \n",
      "---  ------                   --------------  -----  \n",
      " 0   ID                       8100 non-null   int64  \n",
      " 1   Administrative           8100 non-null   int64  \n",
      " 2   Administrative_Duration  8100 non-null   float64\n",
      " 3   Informational            8100 non-null   int64  \n",
      " 4   Informational_Duration   8100 non-null   float64\n",
      " 5   ProductRelated           8100 non-null   int64  \n",
      " 6   ProductRelated_Duration  8100 non-null   float64\n",
      " 7   BounceRates              8100 non-null   float64\n",
      " 8   ExitRates                8100 non-null   float64\n",
      " 9   PageValues               8100 non-null   float64\n",
      " 10  SpecialDay               8100 non-null   object \n",
      " 11  Month                    8100 non-null   int64  \n",
      " 12  OperatingSystems         8100 non-null   object \n",
      " 13  Browser                  8100 non-null   object \n",
      " 14  Region                   8100 non-null   object \n",
      " 15  TrafficType              8100 non-null   object \n",
      " 16  VisitorType              8100 non-null   object \n",
      " 17  Weekend                  8100 non-null   object \n",
      " 18  Revenue                  8100 non-null   int64  \n",
      "dtypes: float64(6), int64(6), object(7)\n",
      "memory usage: 1.2+ MB\n",
      "<class 'pandas.core.frame.DataFrame'>\n",
      "RangeIndex: 900 entries, 0 to 899\n",
      "Data columns (total 18 columns):\n",
      " #   Column                   Non-Null Count  Dtype  \n",
      "---  ------                   --------------  -----  \n",
      " 0   ID                       900 non-null    int64  \n",
      " 1   Administrative           900 non-null    int64  \n",
      " 2   Administrative_Duration  900 non-null    float64\n",
      " 3   Informational            900 non-null    int64  \n",
      " 4   Informational_Duration   900 non-null    float64\n",
      " 5   ProductRelated           900 non-null    int64  \n",
      " 6   ProductRelated_Duration  900 non-null    float64\n",
      " 7   BounceRates              900 non-null    float64\n",
      " 8   ExitRates                900 non-null    float64\n",
      " 9   PageValues               900 non-null    float64\n",
      " 10  SpecialDay               900 non-null    object \n",
      " 11  Month                    900 non-null    int64  \n",
      " 12  OperatingSystems         900 non-null    object \n",
      " 13  Browser                  900 non-null    object \n",
      " 14  Region                   900 non-null    object \n",
      " 15  TrafficType              900 non-null    object \n",
      " 16  VisitorType              900 non-null    object \n",
      " 17  Weekend                  900 non-null    object \n",
      "dtypes: float64(6), int64(5), object(7)\n",
      "memory usage: 126.7+ KB\n"
     ]
    },
    {
     "data": {
      "text/plain": [
       "(None, None)"
      ]
     },
     "execution_count": 11,
     "metadata": {},
     "output_type": "execute_result"
    }
   ],
   "source": [
    "# change datatype\n",
    "category_variable = ['SpecialDay','OperatingSystems','Browser','Region', 'TrafficType', 'VisitorType', 'Weekend']\n",
    "for col in category_variable:\n",
    "    train_data[col]=train_data[col].astype(str)\n",
    "    test_data[col]=test_data[col].astype(str)\n",
    "train_data.info(),test_data.info()"
   ]
  },
  {
   "cell_type": "markdown",
   "metadata": {},
   "source": [
    "## **Overview**\n",
    "### * The datatype is correct now\n",
    "### * No missing or abnormal value in the data"
   ]
  },
  {
   "cell_type": "markdown",
   "metadata": {},
   "source": [
    "# **EDA**"
   ]
  },
  {
   "cell_type": "markdown",
   "metadata": {},
   "source": [
    "## 1. Booked status\n",
    "\n",
    "### We can known that the number of customers who do not book the hotel is 5 times than book the hotel"
   ]
  },
  {
   "cell_type": "code",
   "execution_count": 12,
   "metadata": {},
   "outputs": [
    {
     "data": {
      "image/png": "[encoded data removed]",
      "text/plain": [
       "<Figure size 864x360 with 1 Axes>"
      ]
     },
     "metadata": {
      "needs_background": "light"
     },
     "output_type": "display_data"
    }
   ],
   "source": [
    "# booking rate\n",
    "fig, ax = plt.subplots(figsize=(12, 5))\n",
    "sns.countplot(train_data['Revenue'])\n",
    "plt.xlabel('Revenue', size=15)\n",
    "plt.ylabel('Count', size=15)\n",
    "plt.title('Hotel Booked', size=15)\n",
    "\n",
    "for p in ax.patches:\n",
    "    height = p.get_height()\n",
    "    ax.text(p.get_x()+p.get_width()/2, height+50,\n",
    "            '{:.0f}'.format(height), ha=\"center\")\n"
   ]
  },
  {
   "cell_type": "markdown",
   "metadata": {},
   "source": [
    "## 2. Views vs Month\n",
    "### we can know that the most views are in February and August, probably because of Chinese New Year and Summer vacation"
   ]
  },
  {
   "cell_type": "code",
   "execution_count": 13,
   "metadata": {},
   "outputs": [
    {
     "data": {
      "image/png": "[encoded data removed]",
      "text/plain": [
       "<Figure size 864x360 with 1 Axes>"
      ]
     },
     "metadata": {
      "needs_background": "light"
     },
     "output_type": "display_data"
    }
   ],
   "source": [
    "#Month \n",
    "fig, ax = plt.subplots(figsize=(12, 5))\n",
    "sns.countplot(x='Month',data=train_data)\n",
    "plt.xlabel('Month', size=15)\n",
    "plt.ylabel('Count', size=15)\n",
    "plt.title('Views of Month', size=15)\n",
    "\n",
    "for p in ax.patches:\n",
    "    height = p.get_height()\n",
    "    ax.text(p.get_x()+p.get_width()/2, height+10,\n",
    "            '{:.0f}'.format(height), ha=\"center\")\n"
   ]
  },
  {
   "cell_type": "markdown",
   "metadata": {},
   "source": [
    "## 3. Views vs Region\n",
    "### We can know that the views from Regioin 0 is much more than other region"
   ]
  },
  {
   "cell_type": "code",
   "execution_count": 14,
   "metadata": {},
   "outputs": [
    {
     "data": {
      "image/png": "[encoded data removed]",
      "text/plain": [
       "<Figure size 864x360 with 1 Axes>"
      ]
     },
     "metadata": {
      "needs_background": "light"
     },
     "output_type": "display_data"
    }
   ],
   "source": [
    "#Region\n",
    "fig, ax = plt.subplots(figsize=(12, 5))\n",
    "sns.countplot(x='Region', data=train_data)\n",
    "plt.xlabel('Region', size=15)\n",
    "plt.ylabel('Count', size=15)\n",
    "plt.title('Views of Region', size=15)\n",
    "\n",
    "for p in ax.patches:\n",
    "    height = p.get_height()\n",
    "    ax.text(p.get_x()+p.get_width()/2, height+10,\n",
    "            '{:.0f}'.format(height), ha=\"center\")\n"
   ]
  },
  {
   "cell_type": "markdown",
   "metadata": {},
   "source": [
    "## 4. Views vs Weekend\n",
    "### we can know that people are watching the website on weekdays, instead of weekend. They don't want to waste the time scrolling the website on weekend."
   ]
  },
  {
   "cell_type": "code",
   "execution_count": 15,
   "metadata": {},
   "outputs": [
    {
     "data": {
      "image/png": "[encoded data removed]",
      "text/plain": [
       "<Figure size 864x360 with 1 Axes>"
      ]
     },
     "metadata": {
      "needs_background": "light"
     },
     "output_type": "display_data"
    }
   ],
   "source": [
    "# Weekend\n",
    "fig, ax = plt.subplots(figsize=(12, 5))\n",
    "sns.countplot(x='Weekend', data=train_data)\n",
    "plt.xlabel('Weekend', size=15)\n",
    "plt.ylabel('Count', size=15)\n",
    "plt.title('Views of Weekend', size=15)\n",
    "\n",
    "for p in ax.patches:\n",
    "    height = p.get_height()\n",
    "    ax.text(p.get_x()+p.get_width()/2, height+10,\n",
    "            '{:.0f}'.format(height), ha=\"center\")\n"
   ]
  },
  {
   "cell_type": "markdown",
   "metadata": {},
   "source": [
    "## 5. Views vs Operating System\n",
    "### we can know that the most people who use OperatingSystem 1 to check the website, we can invest more ad source on these operating to attract potential customer"
   ]
  },
  {
   "cell_type": "code",
   "execution_count": 16,
   "metadata": {},
   "outputs": [
    {
     "data": {
      "image/png": "[encoded data removed]",
      "text/plain": [
       "<Figure size 864x360 with 1 Axes>"
      ]
     },
     "metadata": {
      "needs_background": "light"
     },
     "output_type": "display_data"
    }
   ],
   "source": [
    "#Operating System\n",
    "fig, ax = plt.subplots(figsize=(12, 5))\n",
    "sns.countplot(x='OperatingSystems', data=train_data)\n",
    "plt.xlabel('OperatingSystems', size=15)\n",
    "plt.ylabel('Count', size=15)\n",
    "plt.title('Views of OperatingSystems', size=15)\n",
    "\n",
    "for p in ax.patches:\n",
    "    height = p.get_height()\n",
    "    ax.text(p.get_x()+p.get_width()/2, height+10,\n",
    "            '{:.0f}'.format(height), ha=\"center\")\n"
   ]
  },
  {
   "cell_type": "markdown",
   "metadata": {},
   "source": [
    "## 6. Views vs Browser\n",
    "### we can know that the most people use Browser 10 to check the website"
   ]
  },
  {
   "cell_type": "code",
   "execution_count": 17,
   "metadata": {},
   "outputs": [
    {
     "data": {
      "image/png": "[encoded data removed]",
      "text/plain": [
       "<Figure size 864x360 with 1 Axes>"
      ]
     },
     "metadata": {
      "needs_background": "light"
     },
     "output_type": "display_data"
    }
   ],
   "source": [
    "#Browser\n",
    "fig, ax = plt.subplots(figsize=(12, 5))\n",
    "sns.countplot(x='Browser', data=train_data)\n",
    "plt.xlabel('Browser', size=15)\n",
    "plt.ylabel('Count', size=15)\n",
    "plt.title('Views of Browser', size=15)\n",
    "\n",
    "for p in ax.patches:\n",
    "    height = p.get_height()\n",
    "    ax.text(p.get_x()+p.get_width()/2, height+10,\n",
    "            '{:.0f}'.format(height), ha=\"center\")\n"
   ]
  },
  {
   "cell_type": "markdown",
   "metadata": {},
   "source": [
    "## 7. Views vs Visitor Type\n",
    "### we can know that the Visitor Type 2 check the website most frequently"
   ]
  },
  {
   "cell_type": "code",
   "execution_count": 18,
   "metadata": {},
   "outputs": [
    {
     "data": {
      "image/png": "[encoded data removed]",
      "text/plain": [
       "<Figure size 864x360 with 1 Axes>"
      ]
     },
     "metadata": {
      "needs_background": "light"
     },
     "output_type": "display_data"
    }
   ],
   "source": [
    "# visitor type\n",
    "fig, ax = plt.subplots(figsize=(12, 5))\n",
    "sns.countplot(x='VisitorType', data=train_data)\n",
    "plt.xlabel('Visitor Type', size=15)\n",
    "plt.ylabel('Count', size=15)\n",
    "plt.title('Views of VisitorType', size=15)\n",
    "\n",
    "for p in ax.patches:\n",
    "    height = p.get_height()\n",
    "    ax.text(p.get_x()+p.get_width()/2, height+10,\n",
    "            '{:.0f}'.format(height), ha=\"center\")\n"
   ]
  },
  {
   "cell_type": "markdown",
   "metadata": {},
   "source": [
    "# **Modeling**"
   ]
  },
  {
   "cell_type": "markdown",
   "metadata": {},
   "source": [
    "## Feature Engineering"
   ]
  },
  {
   "cell_type": "markdown",
   "metadata": {},
   "source": [
    "## 1. Since the values are numerical, we don't need to change the categorical data to numerical, so skip the step\n",
    "## 2. Split the train_data to 80% training data and 20% testing data\n",
    "## 3. Set the cross validation to validation the model will overfitting or not"
   ]
  },
  {
   "cell_type": "code",
   "execution_count": 19,
   "metadata": {},
   "outputs": [],
   "source": [
    "# train test split\n",
    "X=train_data.drop(['Revenue'],axis=1)\n",
    "y=train_data['Revenue']\n",
    "X_train,X_test,y_train,y_test=train_test_split(X,y,test_size=0.2,random_state=17)"
   ]
  },
  {
   "cell_type": "code",
   "execution_count": 20,
   "metadata": {},
   "outputs": [],
   "source": [
    "# cross validation\n",
    "k_folds=10\n",
    "split=KFold(n_splits=k_folds,shuffle=True,random_state=17)"
   ]
  },
  {
   "cell_type": "markdown",
   "metadata": {},
   "source": [
    "## Model"
   ]
  },
  {
   "cell_type": "markdown",
   "metadata": {},
   "source": [
    "## I will use the common classification ML model to training and find the model which has best performance\n",
    "### 1. Logistic Regression\n",
    "### 2. Decision Tree\n",
    "### 3. Random Forest\n",
    "### 4. K-NN\n"
   ]
  },
  {
   "cell_type": "code",
   "execution_count": 42,
   "metadata": {},
   "outputs": [],
   "source": [
    "base_model=[('Logistic Regression',LogisticRegression(solver='liblinear',random_state=17,max_iter=1000,n_jobs=-1)),\n",
    "            ('Decison Tree',DecisionTreeClassifier(criterion='entropy',random_state=17)),\n",
    "            ('Random Forest',RandomForestClassifier(random_state=17,n_jobs=-1)),\n",
    "            ('K-NN',KNeighborsClassifier(n_jobs=-1))\n",
    "            ]"
   ]
  },
  {
   "cell_type": "markdown",
   "metadata": {},
   "source": [
    "## The performance of each model\n",
    "### The selection criteria is accuracy of each model, we can know that Random Forest has the best performance which accuracy is attain to 90%"
   ]
  },
  {
   "cell_type": "code",
   "execution_count": 44,
   "metadata": {},
   "outputs": [
    {
     "name": "stdout",
     "output_type": "stream",
     "text": [
      "-------Logistic Regression-------\n",
      "accuracy:0.880246913580247\n",
      "precision:0.7267618937487148\n",
      "recall:0.38771080947566433\n",
      "f1:0.5052278124199099\n",
      "-------Decison Tree-------\n",
      "accuracy:0.858395061728395\n",
      "precision:0.5494833936141748\n",
      "recall:0.5692604043159191\n",
      "f1:0.5582783593582759\n",
      "-------Random Forest-------\n",
      "accuracy:0.9003703703703703\n",
      "precision:0.7314419215681199\n",
      "recall:0.5817337128516963\n",
      "f1:0.6476047182466562\n",
      "-------K-NN-------\n",
      "accuracy:0.8246913580246913\n",
      "precision:0.2863111888111888\n",
      "recall:0.0757956707955594\n",
      "f1:0.11967953795171245\n"
     ]
    }
   ],
   "source": [
    "for name,model in base_model:\n",
    "    print(f'-------{name}-------')\n",
    "    for score in ['accuracy','precision','recall','f1']:\n",
    "        print(f'{score}:',end='')\n",
    "        print(cross_val_score(model,X,y,cv=split,scoring=score,n_jobs=-1).mean())\n"
   ]
  },
  {
   "cell_type": "markdown",
   "metadata": {},
   "source": [
    "## Hyperparameter Tuning\n",
    "### After the model selected, try to tuning the model to ensure the model can have the perfect performance, so I use the Grid Search to find out which parameter combination can let the model has the best performance"
   ]
  },
  {
   "cell_type": "code",
   "execution_count": 56,
   "metadata": {},
   "outputs": [
    {
     "name": "stdout",
     "output_type": "stream",
     "text": [
      "-----Best Parameter-----\n",
      "{'min_samples_leaf': 10, 'n_estimators': 120}\n"
     ]
    }
   ],
   "source": [
    "parameter={''\n",
    "           'min_samples_leaf': [10,30,50],\n",
    "           'n_estimators': range(100, 200, 20)}\n",
    "rf_model = RandomForestClassifier(random_state=17,n_jobs=-1)\n",
    "grid_cv=GridSearchCV(estimator=rf_model,param_grid=parameter,cv=split,scoring='accuracy',n_jobs=-1)\n",
    "grid_cv.fit(X_train,y_train)\n",
    "print(f'-----Best Parameter-----')\n",
    "print(grid_cv.best_params_)\n"
   ]
  },
  {
   "cell_type": "markdown",
   "metadata": {},
   "source": [
    "## When we get the best parameters, we can use these parameters to train the model, and can know that the performance got better"
   ]
  },
  {
   "cell_type": "code",
   "execution_count": 57,
   "metadata": {},
   "outputs": [
    {
     "name": "stdout",
     "output_type": "stream",
     "text": [
      "accuracy:0.9023456790123457\n",
      "precision:0.7461384686428818\n",
      "recall:0.5772050755766779\n",
      "f1:0.6501819295407774\n"
     ]
    }
   ],
   "source": [
    "rf_best_model=RandomForestClassifier(random_state=17,min_samples_leaf=10,n_estimators=120,n_jobs=-1)\n",
    "rf_best_model.fit(X_train,y_train)\n",
    "for score in ['accuracy', 'precision', 'recall', 'f1']:\n",
    "    print(f'{score}:', end='')\n",
    "    print(cross_val_score(rf_best_model, X, y, cv=split, scoring=score,n_jobs=-1).mean())\n"
   ]
  },
  {
   "cell_type": "markdown",
   "metadata": {},
   "source": [
    "# **Prediction**"
   ]
  },
  {
   "cell_type": "code",
   "execution_count": 58,
   "metadata": {},
   "outputs": [],
   "source": [
    "frames=[X,test_data]\n",
    "dataset=pd.concat(frames).sort_values(by='ID').iloc[:3330]\n",
    "prediction=rf_best_model.predict(dataset)\n",
    "submission = pd.DataFrame({'ID': dataset['ID'], 'HasRevenue': prediction})\n",
    "submission.to_csv('submission.csv', index=False)\n"
   ]
  },
  {
   "cell_type": "markdown",
   "metadata": {},
   "source": [
    "# **Bonus**"
   ]
  },
  {
   "cell_type": "markdown",
   "metadata": {},
   "source": [
    "## 混淆矩陣概念：Precision and Recall\n",
    "### Precision : 預測為真中，預測為真且實際為真。通常運用在高成本的實體商業活動中，這類型的活動要求特定的高消費族群，因此會要求提升Precision而犧牲Recall。也就是說即使TN較少，FN較多，但只要有一筆大額消費就可以賺回成本。\n",
    "### * Precision=TP/(TP+FP)\n",
    "### Recall : 實際為真中，預測為真且實際為真。運用在低成本的數位商業活動中，這類型不追求特定族群，而是盡可能吸引消費者，因此會犧牲Precision而提高Recall。只要多一個人消費，就能多一份報酬負擔成本。\n",
    "### * Recall=TP/(TP+FN)\n",
    "\n",
    "### 以上題的問題來看，旅館有長期的客人較不容易，因此我認為應該是以Recall為重點，盡可能的提升Recall，多一份消費就多一份報酬。\n",
    "\n",
    "## 1. Model A\n",
    "### TP=853\n",
    "### TN=7230\n",
    "### FN=576\n",
    "### FP=341\n",
    "### Precision = 853/(853+341) = 0.7144\n",
    "### Recall = 853/(853+576) = 0.5969\n",
    "### Accuracy = (853+7230)/(853+7230+576+341) = 0.8981\n",
    "### F1 = (2*853)/(2*853+341+576) = 0.6504\n",
    "\n",
    "\n",
    "## 2. Model B\n",
    "### TP=846\n",
    "### TN=7255\n",
    "### FN=583\n",
    "### FP=316\n",
    "### Precision = 846/(856+316) = 0.7218\n",
    "### Recall = 846/(846+583) = 0.5920\n",
    "### Accuracy = (846+7255)/(846+7255+583+316) = 0.8998\n",
    "### F1 = (2*846)/(2*846+583+316) = 0.6530\n",
    "\n",
    "### 在兩者數值得差不多時，我會選擇使用Model B，因為在Recall和其他指標的差不多時，盡可能的提升Precision可以得到最大利益"
   ]
  }
 ],
 "metadata": {
  "interpreter": {
   "hash": "8f56ce4c832d67f156da5ddb1be9c1f7e427a1714e5c447c1926e3c129ab1d7e"
  },
  "kernelspec": {
   "display_name": "Python 3.8.8 64-bit ('cvxpy': conda)",
   "name": "python3"
  },
  "language_info": {
   "codemirror_mode": {
    "name": "ipython",
    "version": 3
   },
   "file_extension": ".py",
   "mimetype": "text/x-python",
   "name": "python",
   "nbconvert_exporter": "python",
   "pygments_lexer": "ipython3",
   "version": "3.8.8"
  },
  "orig_nbformat": 4
 },
 "nbformat": 4,
 "nbformat_minor": 2
}
